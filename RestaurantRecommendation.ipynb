{
 "cells": [
  {
   "cell_type": "code",
   "execution_count": 1,
   "id": "14360eb5-0581-42cc-bfd0-48e8ff19a9bb",
   "metadata": {},
   "outputs": [],
   "source": [
    "import pandas as pd\n",
    "import numpy as np"
   ]
  },
  {
   "cell_type": "code",
   "execution_count": 5,
   "id": "4a07b5d9-d3df-40cd-a053-7d9a6a45bddb",
   "metadata": {},
   "outputs": [],
   "source": [
    "restro=pd.read_csv(\"Zomato_Kolkata_Restaurants (3.0).csv\")"
   ]
  },
  {
   "cell_type": "code",
   "execution_count": 6,
   "id": "df3205ab-a73d-49d1-aa08-92109826e07d",
   "metadata": {},
   "outputs": [
    {
     "data": {
      "text/html": [
       "<div>\n",
       "<style scoped>\n",
       "    .dataframe tbody tr th:only-of-type {\n",
       "        vertical-align: middle;\n",
       "    }\n",
       "\n",
       "    .dataframe tbody tr th {\n",
       "        vertical-align: top;\n",
       "    }\n",
       "\n",
       "    .dataframe thead th {\n",
       "        text-align: right;\n",
       "    }\n",
       "</style>\n",
       "<table border=\"1\" class=\"dataframe\">\n",
       "  <thead>\n",
       "    <tr style=\"text-align: right;\">\n",
       "      <th></th>\n",
       "      <th>Name</th>\n",
       "      <th>Cuisines</th>\n",
       "      <th>Area</th>\n",
       "      <th>Dinner Ratings</th>\n",
       "      <th>AverageCost</th>\n",
       "      <th>Image</th>\n",
       "    </tr>\n",
       "  </thead>\n",
       "  <tbody>\n",
       "    <tr>\n",
       "      <th>0</th>\n",
       "      <td>Jyoti Vihar</td>\n",
       "      <td>South Indian</td>\n",
       "      <td>Camac Street Area, Kolkata</td>\n",
       "      <td>4.4</td>\n",
       "      <td>300</td>\n",
       "      <td>https://i0.wp.com/yummraj.com/wp-content/uploa...</td>\n",
       "    </tr>\n",
       "  </tbody>\n",
       "</table>\n",
       "</div>"
      ],
      "text/plain": [
       "          Name      Cuisines                        Area Dinner Ratings  \\\n",
       "0  Jyoti Vihar  South Indian  Camac Street Area, Kolkata            4.4   \n",
       "\n",
       "   AverageCost                                              Image  \n",
       "0          300  https://i0.wp.com/yummraj.com/wp-content/uploa...  "
      ]
     },
     "execution_count": 6,
     "metadata": {},
     "output_type": "execute_result"
    }
   ],
   "source": [
    "restro=restro[['Name','Cuisines','Area','Dinner Ratings','AverageCost','Image']]\n",
    "restro.head(1)"
   ]
  },
  {
   "cell_type": "code",
   "execution_count": 7,
   "id": "f5781ddb-2cbf-4d98-bd06-5af4174530ad",
   "metadata": {},
   "outputs": [
    {
     "data": {
      "text/plain": [
       "Name                 0\n",
       "Cuisines             0\n",
       "Area                 0\n",
       "Dinner Ratings       0\n",
       "AverageCost          0\n",
       "Image             4864\n",
       "dtype: int64"
      ]
     },
     "execution_count": 7,
     "metadata": {},
     "output_type": "execute_result"
    }
   ],
   "source": [
    "#check missing data\n",
    "restro.isnull().sum() #use .dropna(inplace=True) to remove if present"
   ]
  },
  {
   "cell_type": "code",
   "execution_count": 8,
   "id": "84492ee0-10da-443f-983e-01f2ed061385",
   "metadata": {},
   "outputs": [],
   "source": [
    "#check duplicate data\n",
    "restro.duplicated().sum()\n",
    "restro.drop_duplicates(inplace=True)"
   ]
  },
  {
   "cell_type": "code",
   "execution_count": 9,
   "id": "3b421d48-1e8f-46bb-a0de-18235d7ec6d2",
   "metadata": {},
   "outputs": [
    {
     "name": "stdout",
     "output_type": "stream",
     "text": [
      "CamacStreet\n"
     ]
    },
    {
     "data": {
      "text/html": [
       "<div>\n",
       "<style scoped>\n",
       "    .dataframe tbody tr th:only-of-type {\n",
       "        vertical-align: middle;\n",
       "    }\n",
       "\n",
       "    .dataframe tbody tr th {\n",
       "        vertical-align: top;\n",
       "    }\n",
       "\n",
       "    .dataframe thead th {\n",
       "        text-align: right;\n",
       "    }\n",
       "</style>\n",
       "<table border=\"1\" class=\"dataframe\">\n",
       "  <thead>\n",
       "    <tr style=\"text-align: right;\">\n",
       "      <th></th>\n",
       "      <th>Name</th>\n",
       "      <th>Cuisines</th>\n",
       "      <th>Area</th>\n",
       "      <th>Dinner Ratings</th>\n",
       "      <th>AverageCost</th>\n",
       "      <th>Image</th>\n",
       "    </tr>\n",
       "  </thead>\n",
       "  <tbody>\n",
       "    <tr>\n",
       "      <th>0</th>\n",
       "      <td>Jyoti Vihar</td>\n",
       "      <td>SouthIndian</td>\n",
       "      <td>CamacStreet</td>\n",
       "      <td>4.4</td>\n",
       "      <td>300</td>\n",
       "      <td>https://i0.wp.com/yummraj.com/wp-content/uploa...</td>\n",
       "    </tr>\n",
       "    <tr>\n",
       "      <th>1</th>\n",
       "      <td>WOW! Momo</td>\n",
       "      <td>Momos,FastFood,Tibetan</td>\n",
       "      <td>ParkStreet</td>\n",
       "      <td>4</td>\n",
       "      <td>350</td>\n",
       "      <td>NaN</td>\n",
       "    </tr>\n",
       "    <tr>\n",
       "      <th>2</th>\n",
       "      <td>Zam Zam</td>\n",
       "      <td>Biryani,Rolls</td>\n",
       "      <td>ParkCircus</td>\n",
       "      <td>4.4</td>\n",
       "      <td>500</td>\n",
       "      <td>NaN</td>\n",
       "    </tr>\n",
       "    <tr>\n",
       "      <th>3</th>\n",
       "      <td>Daily Bhoj</td>\n",
       "      <td>Bengali</td>\n",
       "      <td>Topsia</td>\n",
       "      <td>-</td>\n",
       "      <td>150</td>\n",
       "      <td>NaN</td>\n",
       "    </tr>\n",
       "    <tr>\n",
       "      <th>4</th>\n",
       "      <td>Behnam</td>\n",
       "      <td>Biryani,NorthIndian,Mughlai,Rolls,Kebab,Awadhi...</td>\n",
       "      <td>Topsia</td>\n",
       "      <td>-</td>\n",
       "      <td>200</td>\n",
       "      <td>NaN</td>\n",
       "    </tr>\n",
       "  </tbody>\n",
       "</table>\n",
       "</div>"
      ],
      "text/plain": [
       "          Name                                           Cuisines  \\\n",
       "0  Jyoti Vihar                                        SouthIndian   \n",
       "1    WOW! Momo                             Momos,FastFood,Tibetan   \n",
       "2      Zam Zam                                      Biryani,Rolls   \n",
       "3   Daily Bhoj                                            Bengali   \n",
       "4       Behnam  Biryani,NorthIndian,Mughlai,Rolls,Kebab,Awadhi...   \n",
       "\n",
       "          Area Dinner Ratings  AverageCost  \\\n",
       "0  CamacStreet            4.4          300   \n",
       "1   ParkStreet              4          350   \n",
       "2   ParkCircus            4.4          500   \n",
       "3       Topsia              -          150   \n",
       "4       Topsia              -          200   \n",
       "\n",
       "                                               Image  \n",
       "0  https://i0.wp.com/yummraj.com/wp-content/uploa...  \n",
       "1                                                NaN  \n",
       "2                                                NaN  \n",
       "3                                                NaN  \n",
       "4                                                NaN  "
      ]
     },
     "execution_count": 9,
     "metadata": {},
     "output_type": "execute_result"
    }
   ],
   "source": [
    "#To remove space in between words CAMAC STREET to CAMACSTREET\n",
    "restro['Area'] = restro['Area'].apply(lambda x: ''.join(x).replace(\" \", \"\").replace(\",Kolkata\", \"\").replace(\"Area\",\"\")) #removed ,Kolkata\n",
    "print(restro['Area'][0])\n",
    "restro['Cuisines'] = restro['Cuisines'].apply(lambda x: ''.join(x).replace(\" \", \"\"))\n",
    "restro.head()"
   ]
  },
  {
   "cell_type": "code",
   "execution_count": null,
   "id": "c26d637e-4fe0-4920-91e5-62f7fd562c1c",
   "metadata": {},
   "outputs": [],
   "source": []
  }
 ],
 "metadata": {
  "kernelspec": {
   "display_name": "Python 3 (ipykernel)",
   "language": "python",
   "name": "python3"
  },
  "language_info": {
   "codemirror_mode": {
    "name": "ipython",
    "version": 3
   },
   "file_extension": ".py",
   "mimetype": "text/x-python",
   "name": "python",
   "nbconvert_exporter": "python",
   "pygments_lexer": "ipython3",
   "version": "3.12.0"
  }
 },
 "nbformat": 4,
 "nbformat_minor": 5
}
