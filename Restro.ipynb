{
 "cells": [
  {
   "cell_type": "code",
   "execution_count": 108,
   "metadata": {},
   "outputs": [
    {
     "data": {
      "text/html": [
       "<div>\n",
       "<style scoped>\n",
       "    .dataframe tbody tr th:only-of-type {\n",
       "        vertical-align: middle;\n",
       "    }\n",
       "\n",
       "    .dataframe tbody tr th {\n",
       "        vertical-align: top;\n",
       "    }\n",
       "\n",
       "    .dataframe thead th {\n",
       "        text-align: right;\n",
       "    }\n",
       "</style>\n",
       "<table border=\"1\" class=\"dataframe\">\n",
       "  <thead>\n",
       "    <tr style=\"text-align: right;\">\n",
       "      <th></th>\n",
       "      <th>Name</th>\n",
       "      <th>Cuisines</th>\n",
       "      <th>Area</th>\n",
       "      <th>Dinner Ratings</th>\n",
       "      <th>AverageCost</th>\n",
       "      <th>Image</th>\n",
       "    </tr>\n",
       "  </thead>\n",
       "  <tbody>\n",
       "    <tr>\n",
       "      <th>0</th>\n",
       "      <td>Jyoti Vihar</td>\n",
       "      <td>South Indian</td>\n",
       "      <td>Camac Street Area, Kolkata</td>\n",
       "      <td>4.8</td>\n",
       "      <td>300</td>\n",
       "      <td>https://i0.wp.com/yummraj.com/wp-content/uploa...</td>\n",
       "    </tr>\n",
       "  </tbody>\n",
       "</table>\n",
       "</div>"
      ],
      "text/plain": [
       "          Name      Cuisines                        Area  Dinner Ratings  \\\n",
       "0  Jyoti Vihar  South Indian  Camac Street Area, Kolkata             4.8   \n",
       "\n",
       "   AverageCost                                              Image  \n",
       "0          300  https://i0.wp.com/yummraj.com/wp-content/uploa...  "
      ]
     },
     "execution_count": 108,
     "metadata": {},
     "output_type": "execute_result"
    }
   ],
   "source": [
    "import pandas as pd\n",
    "import numpy as np\n",
    "restro=pd.read_csv(\"Zomato_Kolkata_Restaurants_Updated.csv\")\n",
    "#restro.info() #1 to see all columns for row 1\n",
    "restro=restro[['Name','Cuisines','Area','Dinner Ratings','AverageCost','Image']]\n",
    "restro.head(1)\n"
   ]
  },
  {
   "cell_type": "code",
   "execution_count": 109,
   "metadata": {},
   "outputs": [
    {
     "data": {
      "text/plain": [
       "(4923, 6)"
      ]
     },
     "execution_count": 109,
     "metadata": {},
     "output_type": "execute_result"
    }
   ],
   "source": [
    "#check missing data\n",
    "restro.isnull().sum()\n",
    "#restro.dropna(axis=0, how='any', inplace=False)\n",
    "restro.head()\n",
    "restro.shape"
   ]
  },
  {
   "cell_type": "code",
   "execution_count": 110,
   "metadata": {},
   "outputs": [],
   "source": [
    "#check duplicate data\n",
    "restro.duplicated().sum()\n",
    "restro.drop_duplicates(inplace=True)"
   ]
  },
  {
   "cell_type": "code",
   "execution_count": 111,
   "metadata": {},
   "outputs": [
    {
     "name": "stdout",
     "output_type": "stream",
     "text": [
      "CamacStreet\n"
     ]
    },
    {
     "data": {
      "text/html": [
       "<div>\n",
       "<style scoped>\n",
       "    .dataframe tbody tr th:only-of-type {\n",
       "        vertical-align: middle;\n",
       "    }\n",
       "\n",
       "    .dataframe tbody tr th {\n",
       "        vertical-align: top;\n",
       "    }\n",
       "\n",
       "    .dataframe thead th {\n",
       "        text-align: right;\n",
       "    }\n",
       "</style>\n",
       "<table border=\"1\" class=\"dataframe\">\n",
       "  <thead>\n",
       "    <tr style=\"text-align: right;\">\n",
       "      <th></th>\n",
       "      <th>Name</th>\n",
       "      <th>Cuisines</th>\n",
       "      <th>Area</th>\n",
       "      <th>Dinner Ratings</th>\n",
       "      <th>AverageCost</th>\n",
       "      <th>Image</th>\n",
       "    </tr>\n",
       "  </thead>\n",
       "  <tbody>\n",
       "    <tr>\n",
       "      <th>0</th>\n",
       "      <td>Jyoti Vihar</td>\n",
       "      <td>SouthIndian</td>\n",
       "      <td>CamacStreet</td>\n",
       "      <td>4.8</td>\n",
       "      <td>300</td>\n",
       "      <td>https://i0.wp.com/yummraj.com/wp-content/uploa...</td>\n",
       "    </tr>\n",
       "  </tbody>\n",
       "</table>\n",
       "</div>"
      ],
      "text/plain": [
       "          Name     Cuisines         Area  Dinner Ratings  AverageCost  \\\n",
       "0  Jyoti Vihar  SouthIndian  CamacStreet             4.8          300   \n",
       "\n",
       "                                               Image  \n",
       "0  https://i0.wp.com/yummraj.com/wp-content/uploa...  "
      ]
     },
     "execution_count": 111,
     "metadata": {},
     "output_type": "execute_result"
    }
   ],
   "source": [
    "#To remove space in between words CAMAC STREET to CAMACSTREET\n",
    "restro['Area'] = restro['Area'].apply(lambda x: ''.join(x).replace(\" \", \"\").replace(\",Kolkata\", \"\").replace(\"Area\",\"\")) #removed ,Kolkata\n",
    "print(restro['Area'][0])\n",
    "restro['Cuisines'] = restro['Cuisines'].apply(lambda x: ''.join(x).replace(\" \", \"\"))\n",
    "restro.head(1)"
   ]
  },
  {
   "cell_type": "code",
   "execution_count": 112,
   "metadata": {},
   "outputs": [
    {
     "data": {
      "text/html": [
       "<div>\n",
       "<style scoped>\n",
       "    .dataframe tbody tr th:only-of-type {\n",
       "        vertical-align: middle;\n",
       "    }\n",
       "\n",
       "    .dataframe tbody tr th {\n",
       "        vertical-align: top;\n",
       "    }\n",
       "\n",
       "    .dataframe thead th {\n",
       "        text-align: right;\n",
       "    }\n",
       "</style>\n",
       "<table border=\"1\" class=\"dataframe\">\n",
       "  <thead>\n",
       "    <tr style=\"text-align: right;\">\n",
       "      <th></th>\n",
       "      <th>Name</th>\n",
       "      <th>Cuisines</th>\n",
       "      <th>Area</th>\n",
       "      <th>Dinner Ratings</th>\n",
       "      <th>AverageCost</th>\n",
       "      <th>Image</th>\n",
       "    </tr>\n",
       "  </thead>\n",
       "  <tbody>\n",
       "    <tr>\n",
       "      <th>0</th>\n",
       "      <td>Jyoti Vihar</td>\n",
       "      <td>[SouthIndian]</td>\n",
       "      <td>[CamacStreet]</td>\n",
       "      <td>4.8</td>\n",
       "      <td>[300]</td>\n",
       "      <td>https://i0.wp.com/yummraj.com/wp-content/uploa...</td>\n",
       "    </tr>\n",
       "  </tbody>\n",
       "</table>\n",
       "</div>"
      ],
      "text/plain": [
       "          Name       Cuisines           Area  Dinner Ratings AverageCost  \\\n",
       "0  Jyoti Vihar  [SouthIndian]  [CamacStreet]             4.8       [300]   \n",
       "\n",
       "                                               Image  \n",
       "0  https://i0.wp.com/yummraj.com/wp-content/uploa...  "
      ]
     },
     "execution_count": 112,
     "metadata": {},
     "output_type": "execute_result"
    }
   ],
   "source": [
    "#to convert string to list\n",
    "restro['Cuisines']=restro['Cuisines'].apply(lambda x:x.split()) \n",
    "restro['AverageCost']=restro['AverageCost'].astype(str)\n",
    "restro['Area']=restro['Area'].apply(lambda x:x.split())\n",
    "restro['AverageCost']=restro['AverageCost'].apply(lambda x:x.split())\n",
    "restro.head(1)"
   ]
  },
  {
   "cell_type": "code",
   "execution_count": 113,
   "metadata": {},
   "outputs": [],
   "source": [
    "#creating tags column\n",
    "restro['tags']=restro['Area']+restro['Cuisines']+restro['AverageCost']\n"
   ]
  },
  {
   "cell_type": "code",
   "execution_count": 114,
   "metadata": {},
   "outputs": [
    {
     "data": {
      "text/html": [
       "<div>\n",
       "<style scoped>\n",
       "    .dataframe tbody tr th:only-of-type {\n",
       "        vertical-align: middle;\n",
       "    }\n",
       "\n",
       "    .dataframe tbody tr th {\n",
       "        vertical-align: top;\n",
       "    }\n",
       "\n",
       "    .dataframe thead th {\n",
       "        text-align: right;\n",
       "    }\n",
       "</style>\n",
       "<table border=\"1\" class=\"dataframe\">\n",
       "  <thead>\n",
       "    <tr style=\"text-align: right;\">\n",
       "      <th></th>\n",
       "      <th>Area</th>\n",
       "      <th>tags</th>\n",
       "      <th>Name</th>\n",
       "    </tr>\n",
       "  </thead>\n",
       "  <tbody>\n",
       "    <tr>\n",
       "      <th>0</th>\n",
       "      <td>[CamacStreet]</td>\n",
       "      <td>[CamacStreet, SouthIndian, 300]</td>\n",
       "      <td>Jyoti Vihar</td>\n",
       "    </tr>\n",
       "    <tr>\n",
       "      <th>1</th>\n",
       "      <td>[ParkStreet]</td>\n",
       "      <td>[ParkStreet, Momos,FastFood,Tibetan, 350]</td>\n",
       "      <td>WOW! Momo</td>\n",
       "    </tr>\n",
       "    <tr>\n",
       "      <th>2</th>\n",
       "      <td>[ParkCircus]</td>\n",
       "      <td>[ParkCircus, Biryani,Rolls, 500]</td>\n",
       "      <td>Zam Zam</td>\n",
       "    </tr>\n",
       "    <tr>\n",
       "      <th>3</th>\n",
       "      <td>[Topsia]</td>\n",
       "      <td>[Topsia, Bengali, 150]</td>\n",
       "      <td>Daily Bhoj</td>\n",
       "    </tr>\n",
       "    <tr>\n",
       "      <th>4</th>\n",
       "      <td>[Topsia]</td>\n",
       "      <td>[Topsia, Biryani,NorthIndian,Mughlai,Rolls,Keb...</td>\n",
       "      <td>Behnam</td>\n",
       "    </tr>\n",
       "  </tbody>\n",
       "</table>\n",
       "</div>"
      ],
      "text/plain": [
       "            Area                                               tags  \\\n",
       "0  [CamacStreet]                    [CamacStreet, SouthIndian, 300]   \n",
       "1   [ParkStreet]          [ParkStreet, Momos,FastFood,Tibetan, 350]   \n",
       "2   [ParkCircus]                   [ParkCircus, Biryani,Rolls, 500]   \n",
       "3       [Topsia]                             [Topsia, Bengali, 150]   \n",
       "4       [Topsia]  [Topsia, Biryani,NorthIndian,Mughlai,Rolls,Keb...   \n",
       "\n",
       "          Name  \n",
       "0  Jyoti Vihar  \n",
       "1    WOW! Momo  \n",
       "2      Zam Zam  \n",
       "3   Daily Bhoj  \n",
       "4       Behnam  "
      ]
     },
     "execution_count": 114,
     "metadata": {},
     "output_type": "execute_result"
    }
   ],
   "source": [
    "new_df=restro[['Area','tags','Name']]\n",
    "restro['Area'] = restro['Area'].apply(''.join).apply(''.join)\n",
    "restro['Name'] = restro['Name'].apply(''.join)\n",
    "restro['Cuisines'] = restro['Cuisines'].apply(''.join).apply(''.join)\n",
    "restro['AverageCost'] = restro['AverageCost'].apply(''.join)\n",
    "new_df.head()"
   ]
  },
  {
   "cell_type": "code",
   "execution_count": 115,
   "metadata": {},
   "outputs": [
    {
     "data": {
      "text/plain": [
       "['CamacStreet', 'SouthIndian', '300']"
      ]
     },
     "execution_count": 115,
     "metadata": {},
     "output_type": "execute_result"
    }
   ],
   "source": [
    "new_df['tags'][0]"
   ]
  },
  {
   "cell_type": "code",
   "execution_count": 116,
   "metadata": {},
   "outputs": [
    {
     "name": "stdout",
     "output_type": "stream",
     "text": [
      "            Area                                               tags  \\\n",
      "0  [CamacStreet]                        CamacStreet SouthIndian 300   \n",
      "1   [ParkStreet]              ParkStreet Momos,FastFood,Tibetan 350   \n",
      "2   [ParkCircus]                       ParkCircus Biryani,Rolls 500   \n",
      "3       [Topsia]                                 Topsia Bengali 150   \n",
      "4       [Topsia]  Topsia Biryani,NorthIndian,Mughlai,Rolls,Kebab...   \n",
      "\n",
      "          Name  \n",
      "0  Jyoti Vihar  \n",
      "1    WOW! Momo  \n",
      "2      Zam Zam  \n",
      "3   Daily Bhoj  \n",
      "4       Behnam  \n"
     ]
    },
    {
     "name": "stderr",
     "output_type": "stream",
     "text": [
      "C:\\Users\\pubal\\AppData\\Local\\Temp\\ipykernel_11584\\492355143.py:2: SettingWithCopyWarning: \n",
      "A value is trying to be set on a copy of a slice from a DataFrame.\n",
      "Try using .loc[row_indexer,col_indexer] = value instead\n",
      "\n",
      "See the caveats in the documentation: https://pandas.pydata.org/pandas-docs/stable/user_guide/indexing.html#returning-a-view-versus-a-copy\n",
      "  new_df['tags']=new_df['tags'].apply(lambda x:\" \".join(x))\n"
     ]
    }
   ],
   "source": [
    "#converting tag list to string again\n",
    "new_df['tags']=new_df['tags'].apply(lambda x:\" \".join(x))\n",
    "print(new_df.head())"
   ]
  },
  {
   "cell_type": "code",
   "execution_count": 117,
   "metadata": {},
   "outputs": [
    {
     "name": "stderr",
     "output_type": "stream",
     "text": [
      "C:\\Users\\pubal\\AppData\\Local\\Temp\\ipykernel_11584\\510464446.py:1: SettingWithCopyWarning: \n",
      "A value is trying to be set on a copy of a slice from a DataFrame.\n",
      "Try using .loc[row_indexer,col_indexer] = value instead\n",
      "\n",
      "See the caveats in the documentation: https://pandas.pydata.org/pandas-docs/stable/user_guide/indexing.html#returning-a-view-versus-a-copy\n",
      "  new_df['tags']=new_df['tags'].apply(lambda x:x.lower())\n"
     ]
    },
    {
     "data": {
      "text/html": [
       "<div>\n",
       "<style scoped>\n",
       "    .dataframe tbody tr th:only-of-type {\n",
       "        vertical-align: middle;\n",
       "    }\n",
       "\n",
       "    .dataframe tbody tr th {\n",
       "        vertical-align: top;\n",
       "    }\n",
       "\n",
       "    .dataframe thead th {\n",
       "        text-align: right;\n",
       "    }\n",
       "</style>\n",
       "<table border=\"1\" class=\"dataframe\">\n",
       "  <thead>\n",
       "    <tr style=\"text-align: right;\">\n",
       "      <th></th>\n",
       "      <th>Area</th>\n",
       "      <th>tags</th>\n",
       "      <th>Name</th>\n",
       "    </tr>\n",
       "  </thead>\n",
       "  <tbody>\n",
       "    <tr>\n",
       "      <th>0</th>\n",
       "      <td>[CamacStreet]</td>\n",
       "      <td>camacstreet southindian 300</td>\n",
       "      <td>Jyoti Vihar</td>\n",
       "    </tr>\n",
       "    <tr>\n",
       "      <th>1</th>\n",
       "      <td>[ParkStreet]</td>\n",
       "      <td>parkstreet momos,fastfood,tibetan 350</td>\n",
       "      <td>WOW! Momo</td>\n",
       "    </tr>\n",
       "    <tr>\n",
       "      <th>2</th>\n",
       "      <td>[ParkCircus]</td>\n",
       "      <td>parkcircus biryani,rolls 500</td>\n",
       "      <td>Zam Zam</td>\n",
       "    </tr>\n",
       "    <tr>\n",
       "      <th>3</th>\n",
       "      <td>[Topsia]</td>\n",
       "      <td>topsia bengali 150</td>\n",
       "      <td>Daily Bhoj</td>\n",
       "    </tr>\n",
       "    <tr>\n",
       "      <th>4</th>\n",
       "      <td>[Topsia]</td>\n",
       "      <td>topsia biryani,northindian,mughlai,rolls,kebab...</td>\n",
       "      <td>Behnam</td>\n",
       "    </tr>\n",
       "  </tbody>\n",
       "</table>\n",
       "</div>"
      ],
      "text/plain": [
       "            Area                                               tags  \\\n",
       "0  [CamacStreet]                        camacstreet southindian 300   \n",
       "1   [ParkStreet]              parkstreet momos,fastfood,tibetan 350   \n",
       "2   [ParkCircus]                       parkcircus biryani,rolls 500   \n",
       "3       [Topsia]                                 topsia bengali 150   \n",
       "4       [Topsia]  topsia biryani,northindian,mughlai,rolls,kebab...   \n",
       "\n",
       "          Name  \n",
       "0  Jyoti Vihar  \n",
       "1    WOW! Momo  \n",
       "2      Zam Zam  \n",
       "3   Daily Bhoj  \n",
       "4       Behnam  "
      ]
     },
     "execution_count": 117,
     "metadata": {},
     "output_type": "execute_result"
    }
   ],
   "source": [
    "new_df['tags']=new_df['tags'].apply(lambda x:x.lower())\n",
    "new_df.head()"
   ]
  },
  {
   "cell_type": "code",
   "execution_count": 118,
   "metadata": {},
   "outputs": [
    {
     "data": {
      "text/plain": [
       "'camacstreet southindian 300'"
      ]
     },
     "execution_count": 118,
     "metadata": {},
     "output_type": "execute_result"
    }
   ],
   "source": [
    "new_df['tags'][0]"
   ]
  },
  {
   "cell_type": "code",
   "execution_count": 119,
   "metadata": {},
   "outputs": [],
   "source": [
    "#transform given text to vectors- matrix containing count of each unique word\n",
    "from sklearn.feature_extraction.text import CountVectorizer\n",
    "cv=CountVectorizer(max_features=5000)"
   ]
  },
  {
   "cell_type": "code",
   "execution_count": 120,
   "metadata": {},
   "outputs": [],
   "source": [
    "vectors=cv.fit_transform(new_df['tags']).toarray() #converting sparse matrix to numpy array"
   ]
  },
  {
   "cell_type": "code",
   "execution_count": 121,
   "metadata": {},
   "outputs": [
    {
     "data": {
      "text/plain": [
       "(4913, 283)"
      ]
     },
     "execution_count": 121,
     "metadata": {},
     "output_type": "execute_result"
    }
   ],
   "source": [
    "vectors.shape"
   ]
  },
  {
   "cell_type": "code",
   "execution_count": 122,
   "metadata": {},
   "outputs": [
    {
     "data": {
      "text/plain": [
       "array(['100', '1000', '1050', '1100', '1200', '1300', '1400', '150',\n",
       "       '1500', '1600', '1700', '1800', '1900', '200', '2000', '2100',\n",
       "       '2200', '2300', '2400', '250', '2500', '2700', '300', '3000',\n",
       "       '3100', '350', '400', '4000', '450', '50', '500', '550', '600',\n",
       "       '650', '700', '750', '800', '850', '900', '950', 'acropolismall',\n",
       "       'afghan', 'ajoynagar', 'alipore', 'american', 'andhra', 'arabian',\n",
       "       'asian', 'assamese', 'awadhi', 'axismall', 'baghajatin',\n",
       "       'baguihati', 'bakery', 'ballygunge', 'bangladeshi', 'bangur',\n",
       "       'barabazar', 'baranagar', 'barasat', 'barfood', 'barrackpore',\n",
       "       'bbq', 'behala', 'belghoria', 'beliaghata', 'bengali', 'beverages',\n",
       "       'bhawanipur', 'bihari', 'biryani', 'bowbazar', 'broadwaymall',\n",
       "       'bubbletea', 'burger', 'burmese', 'cafe', 'camacstreet',\n",
       "       'cantonese', 'carry', 'chambersmall', 'chandnichowk',\n",
       "       'charnokcity', 'chettinad', 'chinarpark', 'chinese', 'chowringhee',\n",
       "       'citycentre1', 'citycentre2mall', 'clubecovista', 'coffee',\n",
       "       'collegestreet', 'continental', 'dalhousiebbdbagh',\n",
       "       'desapriyapark', 'desovrani', 'desserts', 'dhakuria',\n",
       "       'diamondplazamall', 'dlfitpark', 'downtownmall', 'drinksonly',\n",
       "       'dumdum', 'ecopark', 'elgin', 'emall', 'enclave', 'entally',\n",
       "       'esplanade', 'european', 'fastfood', 'filipino', 'fingerfood',\n",
       "       'fortknox', 'forummall', 'frozenyogurt', 'garia', 'gariahat',\n",
       "       'girishpark', 'goan', 'goldentulip', 'golfgreen', 'golpark',\n",
       "       'greek', 'gtroad', 'gujarati', 'hatibagan', 'hazra', 'healthyfood',\n",
       "       'hilandpark', 'hindustanpark', 'hotdogs', 'hotelcelesta',\n",
       "       'hotelthesojourn', 'howardjohnson', 'howrah', 'hyderabadi',\n",
       "       'icecream', 'indismarthotel', 'italian', 'itcsonar', 'jadavpur',\n",
       "       'japanese', 'jessoreroad', 'jodhpurpark', 'joka', 'juices',\n",
       "       'kaikhali', 'kalighat', 'kalikapur', 'kalindi', 'kankurgachi',\n",
       "       'kasba', 'kebab', 'kenilworthhotel', 'kerala', 'kestopur',\n",
       "       'kidderpore', 'korean', 'lakegardens', 'lakemall', 'lakemarket',\n",
       "       'laketown', 'lebanese', 'liluah', 'loudonstreet', 'lucknowi',\n",
       "       'machuabazar', 'maharashtrian', 'malaysian', 'malwani',\n",
       "       'mangalorean', 'maniktala', 'manisquaremall', 'mediterranean',\n",
       "       'metrocash', 'metroplazashoppingcentre', 'metropolismall', 'mex',\n",
       "       'mexican', 'middleeastern', 'mintopark', 'mishti', 'mithai',\n",
       "       'modernindian', 'momos', 'mongolian', 'mughlai', 'naga',\n",
       "       'nagerbazar', 'naktala', 'narendrapur', 'nepalese', 'newalipore',\n",
       "       'newmarket', 'newtown', 'northeastern', 'northindian', 'novotel',\n",
       "       'o2vip', 'odia', 'oriental', 'paan', 'paddapukur', 'paikpara',\n",
       "       'pantaloons', 'parkcircus', 'parkstreet', 'parsi', 'pasta',\n",
       "       'picnicgarden', 'pipaltreehotel', 'pizza', 'princeanwarshahroad',\n",
       "       'questmall', 'rajarhat', 'rajasthani', 'rashbehariavenue',\n",
       "       'rdbboulevard', 'regentaorko', 'roastchicken', 'rolls',\n",
       "       'rubyhospital', 'russelstreet', 'russian', 'salad', 'salkia',\n",
       "       'saltee', 'saltlake', 'sandwich', 'santoshpur', 'sciencecity',\n",
       "       'seafood', 'sealdah', 'sector1', 'sector2', 'sector3', 'sector4',\n",
       "       'sector5', 'shake', 'shibpur', 'shobhabazar', 'shyambazar',\n",
       "       'silverspringarcade', 'sinthi', 'sonarpur', 'southcitymall',\n",
       "       'southernavenue', 'southindian', 'sshotel', 'steak', 'streetfood',\n",
       "       'sushi', 'swimmingpoolchaat', 'taltala', 'tangra', 'taratala',\n",
       "       'tea', 'tex', 'thai', 'thakurpukur', 'theastorhotel',\n",
       "       'theatreroad', 'thecornercourtyard', 'thefloatelhotel',\n",
       "       'thelastmetro', 'thepark', 'thepeerlessinn', 'thesonnet',\n",
       "       'thestadel', 'thewestinkolkatarajarhat', 'tibetan', 'tollygunge',\n",
       "       'topsia', 'turkish', 'ultadanga', 'upohartowncentre', 'vietnamese',\n",
       "       'viproad', 'visitelhotel', 'waffle', 'wellesley', 'wraps'],\n",
       "      dtype=object)"
      ]
     },
     "execution_count": 122,
     "metadata": {},
     "output_type": "execute_result"
    }
   ],
   "source": [
    "cv.get_feature_names_out() #most freq features"
   ]
  },
  {
   "cell_type": "code",
   "execution_count": 123,
   "metadata": {},
   "outputs": [],
   "source": [
    "#finding similarity\n",
    "from sklearn.metrics.pairwise import cosine_similarity"
   ]
  },
  {
   "cell_type": "code",
   "execution_count": 124,
   "metadata": {},
   "outputs": [],
   "source": [
    "similarity=cosine_similarity(vectors) "
   ]
  },
  {
   "cell_type": "code",
   "execution_count": 125,
   "metadata": {},
   "outputs": [
    {
     "data": {
      "text/plain": [
       "array([1.        , 0.        , 0.        , ..., 0.        , 0.51639778,\n",
       "       0.        ])"
      ]
     },
     "execution_count": 125,
     "metadata": {},
     "output_type": "execute_result"
    }
   ],
   "source": [
    "similarity[0] #check similarity,see similarity of first movie with first movie is coming as 1"
   ]
  },
  {
   "cell_type": "code",
   "execution_count": 126,
   "metadata": {},
   "outputs": [
    {
     "data": {
      "text/plain": [
       "[(771, 0.7071067811865477),\n",
       " (314, 0.6666666666666669),\n",
       " (361, 0.6666666666666669),\n",
       " (469, 0.6666666666666669),\n",
       " (687, 0.6666666666666669)]"
      ]
     },
     "execution_count": 126,
     "metadata": {},
     "output_type": "execute_result"
    }
   ],
   "source": [
    "#enumerate is used to get the index and its distance side by side and then convert to list\n",
    "list(enumerate(similarity[0])) \n",
    "\n",
    "sorted(list(enumerate(similarity[0])),reverse=True, key=lambda x:x[1])[1:6] #sorting from index 1"
   ]
  },
  {
   "cell_type": "code",
   "execution_count": 127,
   "metadata": {},
   "outputs": [],
   "source": [
    "def recommend(area):\n",
    "    area_index = new_df[new_df['Name'] == area].index[0]  # Getting index of the given area\n",
    "    print(restro.iloc[area_index])\n",
    "    distances = similarity[area_index]\n",
    "    area_list = sorted(list(enumerate(distances)), reverse=True, key=lambda x: x[1])[1:6]\n",
    "\n",
    "    data = []\n",
    "    for i in area_list:\n",
    "        item = []\n",
    "        area_index = i[0]\n",
    "\n",
    "        # Check if area_index is a valid index in new_df\n",
    "        if area_index < len(new_df):\n",
    "            temp_df = restro.iloc[area_index]\n",
    "\n",
    "            item.append(temp_df['Name'])\n",
    "            item.append(temp_df['Area'])\n",
    "            item.append(temp_df['Cuisines'])\n",
    "            item.append(temp_df['Dinner Ratings'])\n",
    "            item.append(temp_df['AverageCost'])\n",
    "            item.append(temp_df['Image'])\n",
    "\n",
    "            data.append(item)\n",
    "        else:\n",
    "            print(f\"Invalid index: {area_index}\")\n",
    "\n",
    "    return data"
   ]
  },
  {
   "cell_type": "code",
   "execution_count": 128,
   "metadata": {},
   "outputs": [
    {
     "name": "stdout",
     "output_type": "stream",
     "text": [
      "Name                                                          BarBQ\n",
      "Cuisines                                  Chinese,NorthIndian,Asian\n",
      "Area                                                     ParkStreet\n",
      "Dinner Ratings                                                  4.8\n",
      "AverageCost                                                    1200\n",
      "Image             https://lh6.ggpht.com/--yNm3NMmwoo/TxHUIlBScrI...\n",
      "tags                  [ParkStreet, Chinese,NorthIndian,Asian, 1200]\n",
      "Name: 87, dtype: object\n"
     ]
    },
    {
     "data": {
      "text/plain": [
       "[['Magnolia',\n",
       "  'ParkStreet',\n",
       "  'Chinese,NorthIndian,Continental',\n",
       "  4.8,\n",
       "  '1200',\n",
       "  'https://d2dzi65yjecjnt.cloudfront.net/406003.jpg'],\n",
       " ['Peter Hu?',\n",
       "  'ParkStreet',\n",
       "  'Asian',\n",
       "  4.8,\n",
       "  '1200',\n",
       "  'https://encrypted-tbn0.gstatic.com/images?q=tbn:ANd9GcQsdw8KlDKmUfstXteaPuypCB-XpivrKFcXL4cj1VB0hAId5zybXxF-53fq3zOP48-Qcw0&usqp=CAU'],\n",
       " ['Flavours Of China',\n",
       "  'ParkStreet',\n",
       "  'Chinese,NorthIndian,Mughlai,Asian',\n",
       "  4.7,\n",
       "  '900',\n",
       "  'https://im1.dineout.co.in/images/uploads/restaurant/sharpen/3/j/q/p3840-149035509458d50396c562f.jpg?tr=tr:n-large'],\n",
       " ['Dash',\n",
       "  'CityCentre1,Sector1,SaltLake',\n",
       "  'Chinese,Asian,NorthIndian',\n",
       "  4.6,\n",
       "  '1200',\n",
       "  'https://media-cdn.tripadvisor.com/media/photo-s/21/6f/9e/d1/inside-bar-area.jpg'],\n",
       " ['Waldorf',\n",
       "  'ParkStreet',\n",
       "  'Chinese,Asian',\n",
       "  4.5,\n",
       "  '1000',\n",
       "  'https://4.bp.blogspot.com/-h0u7bgvLMz0/TyrYbf3JRDI/AAAAAAAAAXk/MzGvFuKFim4/s1600/waldorf.jpg']]"
      ]
     },
     "execution_count": 128,
     "metadata": {},
     "output_type": "execute_result"
    }
   ],
   "source": [
    "recommend('BarBQ')"
   ]
  },
  {
   "cell_type": "markdown",
   "metadata": {},
   "source": [
    "Top 50 Popular Restaurants"
   ]
  },
  {
   "cell_type": "code",
   "execution_count": 129,
   "metadata": {},
   "outputs": [],
   "source": [
    "#finding mean\n",
    "restro['Dinner Ratings'] = restro['Dinner Ratings'].apply(lambda x: x[0] if isinstance(x, list) and x else pd.to_numeric(x, errors='coerce'))\n",
    "restro['Mean Rating'] = restro['Name'].apply(lambda x: restro.loc[restro['Name'].apply(lambda y: x == y), 'Dinner Ratings'].mean())"
   ]
  },
  {
   "cell_type": "code",
   "execution_count": 130,
   "metadata": {},
   "outputs": [
    {
     "name": "stdout",
     "output_type": "stream",
     "text": [
      "https://d2dzi65yjecjnt.cloudfront.net/406003.jpg\n"
     ]
    }
   ],
   "source": [
    "condition = (restro['Name'] == 'Magnolia') & (restro['Area'] == 'ParkStreet')\n",
    "\n",
    "if not restro[condition].empty:\n",
    "    image_url = restro.loc[condition, 'Image'].values[0]\n",
    "    print(image_url)\n",
    "else:\n",
    "    print('Restaurant not found.')"
   ]
  },
  {
   "cell_type": "code",
   "execution_count": 131,
   "metadata": {},
   "outputs": [
    {
     "name": "stdout",
     "output_type": "stream",
     "text": [
      "Name                                                       Pa Pa Ya\n",
      "Cuisines                                Asian,Chinese,Japanese,Thai\n",
      "Area                                                     ParkStreet\n",
      "Dinner Ratings                                                  4.9\n",
      "AverageCost                                                    2500\n",
      "Image             https://assets.architecturaldigest.in/photos/6...\n",
      "Name: 264, dtype: object\n",
      "Name                                          Roastery Coffee House\n",
      "Cuisines          Cafe,American,Continental,Italian,Coffee,Bever...\n",
      "Area                                                       Gariahat\n",
      "Dinner Ratings                                                  4.9\n",
      "AverageCost                                                     800\n",
      "Image             https://b.zmtcdn.com/data/pictures/9/19088819/...\n",
      "Name: 276, dtype: object\n",
      "Name                                                         Ammini\n",
      "Cuisines                                    SouthIndian,NorthIndian\n",
      "Area                                                  DesapriyaPark\n",
      "Dinner Ratings                                                  4.9\n",
      "AverageCost                                                     500\n",
      "Image             https://content.jdmagicbox.com/comp/kolkata/z1...\n",
      "Name: 317, dtype: object\n",
      "Name                                                    Pawan Putra\n",
      "Cuisines          NorthIndian,Chinese,Continental,Beverages,Dess...\n",
      "Area                                                    Kankurgachi\n",
      "Dinner Ratings                                                  4.9\n",
      "AverageCost                                                    1000\n",
      "Image             https://images.venuebookingz.com/28475-1686568...\n",
      "Name: 400, dtype: object\n",
      "Name                                                       Yauatcha\n",
      "Cuisines                                    Asian,Chinese,Cantonese\n",
      "Area                                           QuestMall,Ballygunge\n",
      "Dinner Ratings                                                  4.9\n",
      "AverageCost                                                    2500\n",
      "Image             https://upload.wikimedia.org/wikipedia/commons...\n",
      "Name: 404, dtype: object\n",
      "Name                                                     Monkey Bar\n",
      "Cuisines          Pizza,Burger,Continental,Chinese,FastFood,Beve...\n",
      "Area                                           FortKnox,CamacStreet\n",
      "Dinner Ratings                                                  4.9\n",
      "AverageCost                                                    1500\n",
      "Image             https://im1.dineout.co.in/images/uploads/resta...\n",
      "Name: 449, dtype: object\n",
      "Name                                                        Zaairah\n",
      "Cuisines          NorthIndian,Chinese,Mexican,Continental,Desser...\n",
      "Area                                               Sector1,SaltLake\n",
      "Dinner Ratings                                                  4.9\n",
      "AverageCost                                                    1000\n",
      "Image             https://imgmedia.lbb.in/media/2018/10/5bb61f5c...\n",
      "Name: 452, dtype: object\n",
      "Name                                            Sigree Global Grill\n",
      "Cuisines                                        NorthIndian,Biryani\n",
      "Area                                 SilverSpringArcade,ScienceCity\n",
      "Dinner Ratings                                                  4.9\n",
      "AverageCost                                                    1800\n",
      "Image             https://aninsatiablefoodie.files.wordpress.com...\n",
      "Name: 506, dtype: object\n",
      "Name                                                    Jyoti Vihar\n",
      "Cuisines                                                SouthIndian\n",
      "Area                                                    CamacStreet\n",
      "Dinner Ratings                                                  4.8\n",
      "AverageCost                                                     300\n",
      "Image             https://i0.wp.com/yummraj.com/wp-content/uploa...\n",
      "Name: 0, dtype: object\n",
      "Name                                                The Bikers Cafe\n",
      "Cuisines                      Italian,American,Continental,Desserts\n",
      "Area                                                          Elgin\n",
      "Dinner Ratings                                                  4.8\n",
      "AverageCost                                                    1100\n",
      "Image             https://d4t7t8y8xqo0t.cloudfront.net/resized/7...\n",
      "Name: 525, dtype: object\n",
      "Name                                                      Peter Hu?\n",
      "Cuisines                                                      Asian\n",
      "Area                                                     ParkStreet\n",
      "Dinner Ratings                                                  4.8\n",
      "AverageCost                                                    1200\n",
      "Image             https://encrypted-tbn0.gstatic.com/images?q=tb...\n",
      "Name: 3414, dtype: object\n",
      "Name                                                  The Fatty Bao\n",
      "Cuisines          Asian,Sushi,Japanese,Chinese,Thai,Momos,Beverages\n",
      "Area                                           FortKnox,CamacStreet\n",
      "Dinner Ratings                                                  4.8\n",
      "AverageCost                                                    1500\n",
      "Image             https://imgmedia.lbb.in/59791622_1385160238876...\n",
      "Name: 248, dtype: object\n",
      "Name                                             Ping's Cafe Orient\n",
      "Cuisines          Chinese,Thai,HealthyFood,Burmese,Vietnamese,Fi...\n",
      "Area                                                     ParkStreet\n",
      "Dinner Ratings                                                  4.8\n",
      "AverageCost                                                    1500\n",
      "Image             https://static.wixstatic.com/media/6def36_0ede...\n",
      "Name: 249, dtype: object\n",
      "Name                                                       Overdose\n",
      "Cuisines                                   Chinese,Momos,Asian,Thai\n",
      "Area                                                  DesapriyaPark\n",
      "Dinner Ratings                                                  4.8\n",
      "AverageCost                                                     500\n",
      "Image             https://content.jdmagicbox.com/comp/kolkata/v8...\n",
      "Name: 252, dtype: object\n",
      "Name                                                      Magnolia\n",
      "Cuisines                           Chinese,NorthIndian,Continental\n",
      "Area                                                    ParkStreet\n",
      "Dinner Ratings                                                 4.8\n",
      "AverageCost                                                   1200\n",
      "Image             https://d2dzi65yjecjnt.cloudfront.net/406003.jpg\n",
      "Name: 3487, dtype: object\n",
      "Name                                                          BarBQ\n",
      "Cuisines                                  Chinese,NorthIndian,Asian\n",
      "Area                                                     ParkStreet\n",
      "Dinner Ratings                                                  4.8\n",
      "AverageCost                                                    1200\n",
      "Image             https://lh6.ggpht.com/--yNm3NMmwoo/TxHUIlBScrI...\n",
      "Name: 87, dtype: object\n",
      "Name                                                      Peter Cat\n",
      "Cuisines          NorthIndian,Continental,Mughlai,Desserts,FastF...\n",
      "Area                                                     ParkStreet\n",
      "Dinner Ratings                                                  4.8\n",
      "AverageCost                                                    1000\n",
      "Image             https://wheelsonourfeet.files.wordpress.com/20...\n",
      "Name: 148, dtype: object\n",
      "Name                                           UNO Pizzeria & Grill\n",
      "Cuisines                Pizza,Italian,Mexican,Continental,Beverages\n",
      "Area                                                     ParkCircus\n",
      "Dinner Ratings                                                  4.8\n",
      "AverageCost                                                     250\n",
      "Image             https://encrypted-tbn0.gstatic.com/images?q=tb...\n",
      "Name: 164, dtype: object\n",
      "Name                                           UNO Pizzeria & Grill\n",
      "Cuisines                Pizza,Italian,Mexican,Continental,Beverages\n",
      "Area                                                    Kankurgachi\n",
      "Dinner Ratings                                                  4.7\n",
      "AverageCost                                                    1200\n",
      "Image             https://encrypted-tbn0.gstatic.com/images?q=tb...\n",
      "Name: 1100, dtype: object\n",
      "Name                                                        Kaafila\n",
      "Cuisines                                 NorthIndian,Mughlai,Afghan\n",
      "Area                                   CityCentre1,Sector1,SaltLake\n",
      "Dinner Ratings                                                  4.7\n",
      "AverageCost                                                    1700\n",
      "Image             https://media-cdn.tripadvisor.com/media/photo-...\n",
      "Name: 1418, dtype: object\n",
      "Name                                               Darao Pothik Bor\n",
      "Cuisines              Chinese,Seafood,NorthIndian,Mughlai,Beverages\n",
      "Area                                                         DumDum\n",
      "Dinner Ratings                                                  4.7\n",
      "AverageCost                                                     900\n",
      "Image             https://content.jdmagicbox.com/comp/kolkata/f8...\n",
      "Name: 1245, dtype: object\n",
      "Name                                 Chittoda's Suruchee Restaurant\n",
      "Cuisines                                Chinese,Biryani,NorthIndian\n",
      "Area                                                      Esplanade\n",
      "Dinner Ratings                                                  4.7\n",
      "AverageCost                                                     300\n",
      "Image             https://content3.jdmagicbox.com/comp/kolkata/y...\n",
      "Name: 894, dtype: object\n",
      "Name                                                The Irish House\n",
      "Cuisines                                        Italian,Continental\n",
      "Area                                           QuestMall,Ballygunge\n",
      "Dinner Ratings                                                  4.7\n",
      "AverageCost                                                    1900\n",
      "Image             https://lh3.googleusercontent.com/ruWqY_ZilpiI...\n",
      "Name: 658, dtype: object\n",
      "Name                                                          Artsy\n",
      "Cuisines          HealthyFood,Sandwich,Beverages,Coffee,Cafe,Des...\n",
      "Area                                                      MintoPark\n",
      "Dinner Ratings                                                  4.7\n",
      "AverageCost                                                     800\n",
      "Image             https://www.getbengal.com/uploads/story_image/...\n",
      "Name: 579, dtype: object\n",
      "Name                                               Bombay Brasserie\n",
      "Cuisines                               NorthIndian,ModernIndian,Tea\n",
      "Area                                           QuestMall,Ballygunge\n",
      "Dinner Ratings                                                  4.7\n",
      "AverageCost                                                    1900\n",
      "Image             https://media-cdn.tripadvisor.com/media/photo-...\n",
      "Name: 526, dtype: object\n",
      "Name                                             Kouzina Mining Co.\n",
      "Cuisines          NorthIndian,Biryani,Chinese,Italian,Kebab,Heal...\n",
      "Area                                               Sector1,SaltLake\n",
      "Dinner Ratings                                                  4.7\n",
      "AverageCost                                                    1200\n",
      "Image             https://im.whatshot.in/img/2020/Mar/kouzina-mi...\n",
      "Name: 1380, dtype: object\n",
      "Name                                              Flavours Of China\n",
      "Cuisines                          Chinese,NorthIndian,Mughlai,Asian\n",
      "Area                                                     ParkStreet\n",
      "Dinner Ratings                                                  4.7\n",
      "AverageCost                                                     900\n",
      "Image             https://im1.dineout.co.in/images/uploads/resta...\n",
      "Name: 405, dtype: object\n",
      "Name                                                    Fly Kouzina\n",
      "Cuisines          NorthIndian,Chinese,Italian,Kebab,Biryani,Heal...\n",
      "Area                                               Sector1,SaltLake\n",
      "Dinner Ratings                                                  4.7\n",
      "AverageCost                                                    1100\n",
      "Image             https://lh3.googleusercontent.com/J4RWekMp9lWV...\n",
      "Name: 1129, dtype: object\n",
      "Name                                         Gabbar's Bar & Kitchen\n",
      "Cuisines                      NorthIndian,Chinese,Italian,Beverages\n",
      "Area                                                     ParkStreet\n",
      "Dinner Ratings                                                  4.7\n",
      "AverageCost                                                    1500\n",
      "Image             https://lh3.googleusercontent.com/Eyp-A_qmVIm1...\n",
      "Name: 956, dtype: object\n",
      "Name                                                   Urban Masala\n",
      "Cuisines          NorthIndian,Chinese,Italian,FastFood,Desserts,...\n",
      "Area                                                       LakeTown\n",
      "Dinner Ratings                                                  4.7\n",
      "AverageCost                                                     700\n",
      "Image             https://media-cdn.tripadvisor.com/media/photo-...\n",
      "Name: 1255, dtype: object\n",
      "Name                        Friends Of Pho - Asian Fine Dining Club\n",
      "Cuisines                                        Bengali,NorthIndian\n",
      "Area                                                         DumDum\n",
      "Dinner Ratings                                                  4.7\n",
      "AverageCost                                                     150\n",
      "Image             https://media-cdn.tripadvisor.com/media/photo-...\n",
      "Name: 1294, dtype: object\n",
      "Name                                                   Afraa Lounge\n",
      "Cuisines          Italian,Pizza,Pasta,Continental,NorthIndian,As...\n",
      "Area                                   CityCentre1,Sector1,SaltLake\n",
      "Dinner Ratings                                                  4.7\n",
      "AverageCost                                                    1800\n",
      "Image             https://neotiahospitality.com/mainframe_ambuja...\n",
      "Name: 1572, dtype: object\n",
      "Name                                      Tamara - Pipal Tree Hotel\n",
      "Cuisines                            NorthIndian,Chinese,Continental\n",
      "Area                                         PipalTreeHotel,NewTown\n",
      "Dinner Ratings                                                  4.7\n",
      "AverageCost                                                    1800\n",
      "Image             https://media-cdn.tripadvisor.com/media/photo-...\n",
      "Name: 1620, dtype: object\n",
      "Name                                                    Calcutta 64\n",
      "Cuisines          Sandwich,Burger,Continental,Wraps,Seafood,Thai...\n",
      "Area                                               Sector1,SaltLake\n",
      "Dinner Ratings                                                  4.7\n",
      "AverageCost                                                     850\n",
      "Image             https://images.mid-day.com/images/images/2022/...\n",
      "Name: 1187, dtype: object\n",
      "Name                        Friends Of Pho - Asian Fine Dining Club\n",
      "Cuisines          Chinese,Thai,Vietnamese,Malaysian,Asian,NorthI...\n",
      "Area                                                     ChinarPark\n",
      "Dinner Ratings                                                  4.7\n",
      "AverageCost                                                    1700\n",
      "Image             https://www.google.com/url?sa=i&url=https%3A%2...\n",
      "Name: 1565, dtype: object\n",
      "Name                                 chittoda's Suruchee Restaurant\n",
      "Cuisines                 FastFood,Rolls,Chinese,Biryani,NorthIndian\n",
      "Area                                                        NewTown\n",
      "Dinner Ratings                                                  4.7\n",
      "AverageCost                                                     350\n",
      "Image             https://encrypted-tbn0.gstatic.com/images?q=tb...\n",
      "Name: 1097, dtype: object\n",
      "Name                                            Chili's Grill & Bar\n",
      "Cuisines          Mexican,Italian,American,Tex-Mex,Seafood,Bever...\n",
      "Area                                           QuestMall,Ballygunge\n",
      "Dinner Ratings                                                  4.8\n",
      "AverageCost                                                    1200\n",
      "Image             https://lh3.googleusercontent.com/bxS_XeV-eEYc...\n",
      "Name: 146, dtype: object\n",
      "Name                                            Chili's Grill & Bar\n",
      "Cuisines          Mexican,Italian,American,Tex-Mex,Seafood,Bever...\n",
      "Area                                            AcropolisMall,Kasba\n",
      "Dinner Ratings                                                  4.6\n",
      "AverageCost                                                    1200\n",
      "Image             https://kitchenofdebjani.com/wp-content/upload...\n",
      "Name: 3338, dtype: object\n",
      "Name                                               My Big Fat Belly\n",
      "Cuisines          Burger,Pizza,Pasta,Continental,Italian,Beverag...\n",
      "Area                                                     Bhawanipur\n",
      "Dinner Ratings                                                  4.7\n",
      "AverageCost                                                     600\n",
      "Image                                                           NaN\n",
      "Name: 907, dtype: object\n",
      "Name                                               My Big Fat Belly\n",
      "Cuisines          Burger,Pizza,Pasta,Continental,Italian,Beverag...\n",
      "Area                                                   PicnicGarden\n",
      "Dinner Ratings                                                  4.6\n",
      "AverageCost                                                     350\n",
      "Image             https://www.google.com/url?sa=i&url=https%3A%2...\n",
      "Name: 1965, dtype: object\n",
      "Name                                               My Big Fat Belly\n",
      "Cuisines                                                    Bengali\n",
      "Area                                               Sector5,SaltLake\n",
      "Dinner Ratings                                                  4.7\n",
      "AverageCost                                                     100\n",
      "Image             https://media-cdn.tripadvisor.com/media/photo-...\n",
      "Name: 1098, dtype: object\n",
      "Name                                     Santa's Fantasea\n",
      "Cuisines          Seafood,Chinese,Cantonese,Thai,Desserts\n",
      "Area                                     Sector1,SaltLake\n",
      "Dinner Ratings                                        4.5\n",
      "AverageCost                                          1000\n",
      "Image                                                 NaN\n",
      "Name: 1128, dtype: object\n",
      "Name                                               Santa's Fantasea\n",
      "Cuisines                    Seafood,Chinese,Cantonese,Thai,Desserts\n",
      "Area                                                        Golpark\n",
      "Dinner Ratings                                                  4.8\n",
      "AverageCost                                                    1000\n",
      "Image             https://d4t7t8y8xqo0t.cloudfront.net/resized/7...\n",
      "Name: 215, dtype: object\n",
      "Name                                                Cafe I Can Flyy\n",
      "Cuisines          Cafe,Italian,FastFood,Salad,Beverages,Desserts...\n",
      "Area                                                          Hazra\n",
      "Dinner Ratings                                                  4.6\n",
      "AverageCost                                                     800\n",
      "Image             https://b.zmtcdn.com/data/reviews_photos/f95/c...\n",
      "Name: 4494, dtype: object\n",
      "Name                                                      RoadHouzz\n",
      "Cuisines          Italian,American,NorthIndian,Mughlai,Chinese,K...\n",
      "Area                                                 SouthernAvenue\n",
      "Dinner Ratings                                                  4.6\n",
      "AverageCost                                                    1500\n",
      "Image             https://b.zmtcdn.com/data/pictures/2/18749772/...\n",
      "Name: 2796, dtype: object\n",
      "Name                                                          Kopai\n",
      "Cuisines                                    Bengali,Chinese,Biryani\n",
      "Area                                                 SouthernAvenue\n",
      "Dinner Ratings                                                  4.6\n",
      "AverageCost                                                     700\n",
      "Image             https://b.zmtcdn.com/data/pictures/3/18650723/...\n",
      "Name: 2791, dtype: object\n",
      "Name                              Route 29 Cafe - A Unit Of Macazzo\n",
      "Cuisines            Continental,Sandwich,Pizza,NorthIndian,FastFood\n",
      "Area                                                     Santoshpur\n",
      "Dinner Ratings                                                  4.6\n",
      "AverageCost                                                     600\n",
      "Image             https://kitchenofdebjani.com/wp-content/upload...\n",
      "Name: 3413, dtype: object\n",
      "Name                             Seasonal Taste- The Westin Kolkata\n",
      "Cuisines             Continental,Biryani,American,NorthIndian,Asian\n",
      "Area                               TheWestinKolkataRajarhat,NewTown\n",
      "Dinner Ratings                                                  4.6\n",
      "AverageCost                                                    3000\n",
      "Image             https://media-cdn.tripadvisor.com/media/photo-...\n",
      "Name: 2438, dtype: object\n",
      "Name                                                        Macazzo\n",
      "Cuisines          Cafe,Continental,Desserts,FastFood,Italian,Bev...\n",
      "Area                                                 SouthernAvenue\n",
      "Dinner Ratings                                                  4.6\n",
      "AverageCost                                                    1000\n",
      "Image             https://media-cdn.tripadvisor.com/media/photo-...\n",
      "Name: 2775, dtype: object\n",
      "Name                                                       Snacking\n",
      "Cuisines          Chinese,Continental,Pizza,Italian,Cafe,Coffee,...\n",
      "Area                                            PrinceAnwarShahRoad\n",
      "Dinner Ratings                                                  4.6\n",
      "AverageCost                                                     900\n",
      "Image             https://d4t7t8y8xqo0t.cloudfront.net/resized/7...\n",
      "Name: 1933, dtype: object\n",
      "(50, 6)\n"
     ]
    }
   ],
   "source": [
    "sorted_df = restro.sort_values(by='Mean Rating', ascending=False)\n",
    "\n",
    "# Get the top 50 restaurants\n",
    "top_50_restaurants = sorted_df.head(50)\n",
    "\n",
    "# Excluding 'tags' and 'Mean Rating' columns\n",
    "columns_to_exclude = ['tags', 'Mean Rating']\n",
    "filtered_top_50 = top_50_restaurants.drop(columns=columns_to_exclude, errors='ignore')\n",
    "\n",
    "# Displaying \n",
    "for index, row in filtered_top_50.iterrows():\n",
    "    print(row)\n",
    "\n",
    "\n",
    "print(filtered_top_50.shape)\n"
   ]
  },
  {
   "cell_type": "markdown",
   "metadata": {},
   "source": [
    "#WEBSITE "
   ]
  },
  {
   "cell_type": "code",
   "execution_count": 132,
   "metadata": {},
   "outputs": [],
   "source": [
    "import pickle"
   ]
  },
  {
   "cell_type": "code",
   "execution_count": 133,
   "metadata": {},
   "outputs": [],
   "source": [
    "pickle.dump(restro,open('restro.pkl','wb'))"
   ]
  },
  {
   "cell_type": "code",
   "execution_count": 134,
   "metadata": {},
   "outputs": [
    {
     "data": {
      "text/plain": [
       "array([list(['CamacStreet']), list(['ParkStreet']), list(['ParkCircus']),\n",
       "       ..., list(['Kankurgachi']), list(['Sealdah']),\n",
       "       list(['ParkCircus'])], dtype=object)"
      ]
     },
     "execution_count": 134,
     "metadata": {},
     "output_type": "execute_result"
    }
   ],
   "source": [
    "new_df['Area'].values"
   ]
  },
  {
   "cell_type": "code",
   "execution_count": 136,
   "metadata": {},
   "outputs": [],
   "source": [
    "#exporting\n",
    "pickle.dump(new_df,open('new_df.pkl','wb'))\n",
    "pickle.dump(similarity,open('similarity.pkl','wb'))\n",
    "pickle.dump(filtered_top_50,open('filtered_top_50.pkl','wb'))"
   ]
  },
  {
   "cell_type": "code",
   "execution_count": null,
   "metadata": {},
   "outputs": [],
   "source": []
  },
  {
   "cell_type": "code",
   "execution_count": null,
   "metadata": {},
   "outputs": [],
   "source": []
  },
  {
   "cell_type": "code",
   "execution_count": null,
   "metadata": {},
   "outputs": [],
   "source": []
  },
  {
   "cell_type": "code",
   "execution_count": null,
   "metadata": {},
   "outputs": [],
   "source": []
  },
  {
   "cell_type": "code",
   "execution_count": null,
   "metadata": {},
   "outputs": [],
   "source": []
  },
  {
   "cell_type": "code",
   "execution_count": null,
   "metadata": {},
   "outputs": [],
   "source": []
  },
  {
   "cell_type": "code",
   "execution_count": null,
   "metadata": {},
   "outputs": [],
   "source": []
  }
 ],
 "metadata": {
  "kernelspec": {
   "display_name": "Python 3 (ipykernel)",
   "language": "python",
   "name": "python3"
  },
  "language_info": {
   "codemirror_mode": {
    "name": "ipython",
    "version": 3
   },
   "file_extension": ".py",
   "mimetype": "text/x-python",
   "name": "python",
   "nbconvert_exporter": "python",
   "pygments_lexer": "ipython3",
   "version": "3.12.0"
  }
 },
 "nbformat": 4,
 "nbformat_minor": 4
}
